{
 "cells": [
  {
   "cell_type": "markdown",
   "metadata": {},
   "source": [
    "<p style=\"text-align:center\">\n",
    "    <a href=\"https://skills.network/?utm_medium=Exinfluencer&utm_source=Exinfluencer&utm_content=000026UJ&utm_term=10006555&utm_id=NA-SkillsNetwork-Channel-SkillsNetworkCoursesIBMDeveloperSkillsNetworkPY0221ENSkillsNetwork899-2023-01-01\">\n",
    "    <img src=\"https://cf-courses-data.s3.us.cloud-object-storage.appdomain.cloud/assets/logos/SN_web_lightmode.png\" width=\"200\" alt=\"Skills Network Logo\"  />\n",
    "    </a>\n",
    "</p>\n"
   ]
  },
  {
   "cell_type": "markdown",
   "metadata": {},
   "source": [
    "# Peer Review Assignment - Data Engineer - ETL\n"
   ]
  },
  {
   "cell_type": "markdown",
   "metadata": {},
   "source": [
    "Estimated time needed: **20** minutes\n"
   ]
  },
  {
   "cell_type": "markdown",
   "metadata": {},
   "source": [
    "## Objectives\n",
    "\n",
    "In this final part you will:\n",
    "\n",
    "- Run the ETL process\n",
    "- Extract bank and market cap data from the JSON file `bank_market_cap.json`\n",
    "- Transform the market cap currency using the exchange rate data\n",
    "- Load the transformed data into a seperate CSV\n"
   ]
  },
  {
   "cell_type": "markdown",
   "metadata": {},
   "source": [
    "For this lab, we are going to be using Python and several Python libraries. Some of these libraries might be installed in your lab environment or in SN Labs. Others may need to be installed by you. The cells below will install these libraries when executed.\n"
   ]
  },
  {
   "cell_type": "code",
   "execution_count": null,
   "metadata": {
    "tags": []
   },
   "outputs": [],
   "source": [
    "#!mamba install pandas==1.3.3 -y\n",
    "#!mamba install requests==2.26.0 -y"
   ]
  },
  {
   "cell_type": "markdown",
   "metadata": {},
   "source": [
    "## Imports\n",
    "\n",
    "Import any additional libraries you may need here.\n"
   ]
  },
  {
   "cell_type": "code",
   "execution_count": null,
   "metadata": {
    "tags": []
   },
   "outputs": [],
   "source": [
    "import glob\n",
    "import pandas as pd\n",
    "from datetime import datetime"
   ]
  },
  {
   "cell_type": "markdown",
   "metadata": {},
   "source": [
    "As the exchange rate fluctuates, we will download the same dataset to make marking simpler. This will be in the same format as the dataset you used in the last section  \n"
   ]
  },
  {
   "cell_type": "code",
   "execution_count": null,
   "metadata": {
    "tags": []
   },
   "outputs": [],
   "source": [
    "!wget https://cf-courses-data.s3.us.cloud-object-storage.appdomain.cloud/IBMDeveloperSkillsNetwork-PY0221EN-SkillsNetwork/labs/module%206/Lab%20-%20Extract%20Transform%20Load/data/bank_market_cap_1.json\n",
    "!wget https://cf-courses-data.s3.us.cloud-object-storage.appdomain.cloud/IBMDeveloperSkillsNetwork-PY0221EN-SkillsNetwork/labs/module%206/Lab%20-%20Extract%20Transform%20Load/data/bank_market_cap_2.json\n",
    "!wget https://cf-courses-data.s3.us.cloud-object-storage.appdomain.cloud/IBMDeveloperSkillsNetwork-PY0221EN-SkillsNetwork/labs/module%206/Final%20Assignment/exchange_rates.csv"
   ]
  },
  {
   "cell_type": "markdown",
   "metadata": {},
   "source": [
    "## Extract\n"
   ]
  },
  {
   "cell_type": "markdown",
   "metadata": {},
   "source": [
    "### JSON Extract Function\n",
    "\n",
    "This function will extract JSON files.\n"
   ]
  },
  {
   "cell_type": "code",
   "execution_count": null,
   "metadata": {
    "tags": []
   },
   "outputs": [],
   "source": [
    "def extract_from_json(file_to_process):\n",
    "    dataframe = pd.read_json(file_to_process)\n",
    "    return dataframe"
   ]
  },
  {
   "cell_type": "markdown",
   "metadata": {},
   "source": [
    "## Extract Function\n",
    "\n",
    "Define the extract function that finds JSON file `bank_market_cap_1.json` and calls the function created above to extract data from them. Store the data in a `pandas` dataframe. Use the following list for the columns.\n"
   ]
  },
  {
   "cell_type": "code",
   "execution_count": null,
   "metadata": {
    "tags": []
   },
   "outputs": [],
   "source": [
    "columns=['Name','Market Cap (US$ Billion)']"
   ]
  },
  {
   "cell_type": "code",
   "execution_count": null,
   "metadata": {
    "tags": []
   },
   "outputs": [],
   "source": [
    "def extract():\n",
    "    # Find the JSON file path\n",
    "    file_to_process = 'bank_market_cap_1.json'  # Replace with the actual file path\n",
    "\n",
    "    # Call the extract_from_json function to get the dataframe\n",
    "    data_df = extract_from_json(file_to_process)\n",
    "\n",
    "    # Filter the dataframe to keep only the specified columns\n",
    "    data_df = data_df[columns]\n",
    "\n",
    "    return data_df\n",
    "\n",
    "# Call the extract function to get the dataframe\n",
    "result_dataframe = extract()\n",
    "print(result_dataframe)"
   ]
  },
  {
   "cell_type": "markdown",
   "metadata": {},
   "source": [
    "<b>Question 1</b> Load the file <code>exchange_rates.csv</code> as a dataframe and find the exchange rate for British pounds with the symbol <code>GBP</code>, store it in the variable  <code>exchange_rate</code>, you will be asked for the number. Hint: set the parameter  <code>index_col</code> to 0.\n"
   ]
  },
  {
   "cell_type": "code",
   "execution_count": 29,
   "metadata": {
    "tags": []
   },
   "outputs": [
    {
     "name": "stdout",
     "output_type": "stream",
     "text": [
      "Available columns:\n",
      "Index(['Rates'], dtype='object')\n",
      "Exchange rate for GBP: 0.7323984208000001\n"
     ]
    },
    {
     "name": "stdin",
     "output_type": "stream",
     "text": [
      "Please enter a number:  2\n"
     ]
    },
    {
     "name": "stdout",
     "output_type": "stream",
     "text": [
      "User input: 2.0\n"
     ]
    }
   ],
   "source": [
    "import pandas as pd\n",
    "\n",
    "def find_exchange_rate():\n",
    "    # Load the CSV file into a dataframe\n",
    "    dataframe = pd.read_csv('exchange_rates.csv', index_col=0)\n",
    "\n",
    "    # Display available columns in the dataframe\n",
    "    print(\"Available columns:\")\n",
    "    print(dataframe.columns)\n",
    "\n",
    "    # Find the exchange rate for British pounds (GBP) based on the correct column name\n",
    "    exchange_rate = dataframe.loc['GBP', 'Rates']\n",
    "\n",
    "    return exchange_rate\n",
    "\n",
    "# Call the function to get the exchange rate for GBP\n",
    "try:\n",
    "    exchange_rate = find_exchange_rate()\n",
    "    print(\"Exchange rate for GBP:\", exchange_rate)\n",
    "\n",
    "    # Ask the user to input the number (optional)\n",
    "    # Replace this step with your method to input the number if required.\n",
    "    user_input = float(input(\"Please enter a number: \"))\n",
    "    print(\"User input:\", user_input)\n",
    "\n",
    "except KeyError as e:\n",
    "    print(\"Error: The specified column for exchange rate was not found.\")\n"
   ]
  },
  {
   "cell_type": "markdown",
   "metadata": {},
   "source": [
    "## Transform\n",
    "\n",
    "Using <code>exchange_rate</code> and the `exchange_rates.csv` file find the exchange rate of USD to GBP. Write a transform function that\n",
    "\n",
    "1. Changes the `Market Cap (US$ Billion)` column from USD to GBP\n",
    "2. Rounds the Market Cap (US$ Billion)` column to 3 decimal places\n",
    "3. Rename `Market Cap (US$ Billion)` to `Market Cap (GBP$ Billion)`\n"
   ]
  },
  {
   "cell_type": "code",
   "execution_count": 72,
   "metadata": {
    "tags": []
   },
   "outputs": [],
   "source": [
    "import pandas as pd\n",
    "import json\n",
    "\n",
    "def find_exchange_rate(currency):\n",
    "    # Load the JSON file into a DataFrame\n",
    "    dataframe = pd.read_json('bank_market_cap_1.json', orient='index')\n",
    "\n",
    "    # Find the exchange rate based on the provided currency and column name 'Rates'\n",
    "    exchange_rate = dataframe.loc[currency, 'Rates']\n",
    "\n",
    "    return exchange_rate\n",
    "\n",
    "def transform():\n",
    "    # Assume that the data in the JSON file is already in USD, and use the exchange rate for GBP (0.73)\n",
    "    exchange_rate = 0.73\n",
    "\n",
    "    # Load the JSON file into a DataFrame\n",
    "    dataframe = pd.read_json('bank_market_cap_1.json')\n",
    "\n",
    "    # Change the Market Cap (US$ Billion) column from USD to GBP\n",
    "    dataframe['Market Cap (GBP$ Billion)'] = dataframe['Market Cap (US$ Billion)'] * exchange_rate\n",
    "\n",
    "    # Round the Market Cap (GBP$ Billion) column to 3 decimal places\n",
    "    dataframe['Market Cap (GBP$ Billion)'] = dataframe['Market Cap (GBP$ Billion)'].round(3)\n",
    "\n",
    "    # Add the 'GBP' column with the exchange rate to the dataframe\n",
    "    dataframe['GBP'] = exchange_rate\n",
    "\n",
    "    return dataframe\n"
   ]
  },
  {
   "cell_type": "markdown",
   "metadata": {},
   "source": [
    "## Load\n",
    "\n",
    "Create a function that takes a dataframe and load it to a csv named `bank_market_cap_gbp.csv`. Make sure to set `index` to `False`.\n"
   ]
  },
  {
   "cell_type": "code",
   "execution_count": 45,
   "metadata": {
    "tags": []
   },
   "outputs": [],
   "source": [
    "import pandas as pd\n",
    "\n",
    "def load(dataframe):\n",
    "    # Save the dataframe to a CSV file with the filename 'bank_market_cap_gbp.csv'\n",
    "    dataframe.to_csv('bank_market_cap_gbp.csv', index=False)\n"
   ]
  },
  {
   "cell_type": "markdown",
   "metadata": {},
   "source": [
    "## Logging Function\n"
   ]
  },
  {
   "cell_type": "markdown",
   "metadata": {},
   "source": [
    "Write the logging function <code>log</code> to log your data:\n"
   ]
  },
  {
   "cell_type": "code",
   "execution_count": 46,
   "metadata": {
    "tags": []
   },
   "outputs": [
    {
     "name": "stderr",
     "output_type": "stream",
     "text": [
      "2023-08-02 05:09:49,202 - INFO - This is an info message\n",
      "2023-08-02 05:09:49,204 - WARNING - This is a warning message\n",
      "2023-08-02 05:09:49,205 - ERROR - This is an error message\n"
     ]
    }
   ],
   "source": [
    "import logging\n",
    "\n",
    "def log(message, log_level=logging.INFO):\n",
    "    # Configure the logging format\n",
    "    logging.basicConfig(\n",
    "        format='%(asctime)s - %(levelname)s - %(message)s',\n",
    "        level=logging.INFO  # Set the default log level to INFO\n",
    "    )\n",
    "\n",
    "    # Log the message at the specified log level\n",
    "    if log_level == logging.INFO:\n",
    "        logging.info(message)\n",
    "    elif log_level == logging.WARNING:\n",
    "        logging.warning(message)\n",
    "    elif log_level == logging.ERROR:\n",
    "        logging.error(message)\n",
    "    else:\n",
    "        logging.info(message)  # Default to INFO if an invalid log level is provided\n",
    "\n",
    "# Example usage:\n",
    "log(\"This is an info message\")  # Log an info message\n",
    "log(\"This is a warning message\", log_level=logging.WARNING)  # Log a warning message\n",
    "log(\"This is an error message\", log_level=logging.ERROR)  # Log an error message\n"
   ]
  },
  {
   "cell_type": "markdown",
   "metadata": {},
   "source": [
    "## Running the ETL Process\n"
   ]
  },
  {
   "cell_type": "markdown",
   "metadata": {},
   "source": [
    "Log the process accordingly using the following <code>\"ETL Job Started\"</code> and <code>\"Extract phase Started\"</code>\n"
   ]
  },
  {
   "cell_type": "code",
   "execution_count": 47,
   "metadata": {
    "tags": []
   },
   "outputs": [
    {
     "name": "stderr",
     "output_type": "stream",
     "text": [
      "2023-08-02 05:10:17,046 - INFO - ETL Job Started\n",
      "2023-08-02 05:10:17,048 - INFO - Extract phase Started\n"
     ]
    }
   ],
   "source": [
    "import logging\n",
    "\n",
    "def log(message, log_level=logging.INFO):\n",
    "    # Configure the logging format\n",
    "    logging.basicConfig(\n",
    "        format='%(asctime)s - %(levelname)s - %(message)s',\n",
    "        level=logging.INFO  # Set the default log level to INFO\n",
    "    )\n",
    "\n",
    "    # Log the message at the specified log level\n",
    "    if log_level == logging.INFO:\n",
    "        logging.info(message)\n",
    "    elif log_level == logging.WARNING:\n",
    "        logging.warning(message)\n",
    "    elif log_level == logging.ERROR:\n",
    "        logging.error(message)\n",
    "    else:\n",
    "        logging.info(message)  # Default to INFO if an invalid log level is provided\n",
    "\n",
    "# Log the ETL Job Started message\n",
    "log(\"ETL Job Started\")\n",
    "\n",
    "# Log the Extract phase Started message\n",
    "log(\"Extract phase Started\")\n"
   ]
  },
  {
   "cell_type": "markdown",
   "metadata": {},
   "source": [
    "### Extract\n"
   ]
  },
  {
   "cell_type": "markdown",
   "metadata": {},
   "source": [
    "<code>Question 2</code> Use the function <code>extract</code>, and print the first 5 rows, take a screen shot:\n"
   ]
  },
  {
   "cell_type": "code",
   "execution_count": 48,
   "metadata": {
    "tags": []
   },
   "outputs": [
    {
     "name": "stdout",
     "output_type": "stream",
     "text": [
      "                                      Name  Market Cap (US$ Billion)\n",
      "0                           JPMorgan Chase                   390.934\n",
      "1  Industrial and Commercial Bank of China                   345.214\n",
      "2                          Bank of America                   325.331\n",
      "3                              Wells Fargo                   308.013\n",
      "4                  China Construction Bank                   257.399\n"
     ]
    }
   ],
   "source": [
    "import pandas as pd\n",
    "\n",
    "# Call the extract function to get the dataframe\n",
    "extracted_dataframe = extract()\n",
    "\n",
    "# Print the first 5 rows of the dataframe\n",
    "print(extracted_dataframe.head())\n"
   ]
  },
  {
   "cell_type": "markdown",
   "metadata": {},
   "source": [
    "Log the data as <code>\"Extract phase Ended\"</code>\n"
   ]
  },
  {
   "cell_type": "code",
   "execution_count": 74,
   "metadata": {
    "tags": []
   },
   "outputs": [
    {
     "name": "stderr",
     "output_type": "stream",
     "text": [
      "2023-08-02 05:25:26,698 - INFO - Extract phase Ended\n"
     ]
    }
   ],
   "source": [
    "log(\"Extract phase Ended\")"
   ]
  },
  {
   "cell_type": "markdown",
   "metadata": {},
   "source": [
    "### Transform\n"
   ]
  },
  {
   "cell_type": "markdown",
   "metadata": {},
   "source": [
    "Log the following  <code>\"Transform phase Started\"</code>\n"
   ]
  },
  {
   "cell_type": "code",
   "execution_count": 49,
   "metadata": {
    "tags": []
   },
   "outputs": [
    {
     "name": "stderr",
     "output_type": "stream",
     "text": [
      "2023-08-02 05:13:16,458 - INFO - Transform phase Started\n"
     ]
    }
   ],
   "source": [
    "log(\"Transform phase Started\")\n"
   ]
  },
  {
   "cell_type": "markdown",
   "metadata": {},
   "source": [
    "<code>Question 3</code> Use the function <code>transform</code> and print the first 5 rows of the output, take a screen shot:\n"
   ]
  },
  {
   "cell_type": "code",
   "execution_count": 73,
   "metadata": {
    "tags": []
   },
   "outputs": [
    {
     "name": "stdout",
     "output_type": "stream",
     "text": [
      "                                      Name  Market Cap (US$ Billion)   GBP  \\\n",
      "0                           JPMorgan Chase                   390.934  0.73   \n",
      "1  Industrial and Commercial Bank of China                   345.214  0.73   \n",
      "2                          Bank of America                   325.331  0.73   \n",
      "3                              Wells Fargo                   308.013  0.73   \n",
      "4                  China Construction Bank                   257.399  0.73   \n",
      "\n",
      "   Market Cap (GBP$ Billion)  \n",
      "0                    285.382  \n",
      "1                    252.006  \n",
      "2                    237.492  \n",
      "3                    224.849  \n",
      "4                    187.901  \n"
     ]
    }
   ],
   "source": [
    "def add_gbp_exchange_rate(exchange_rate):\n",
    "    # Load the existing CSV file into a dataframe\n",
    "    dataframe = pd.read_csv('exchange_rates.csv')\n",
    "\n",
    "    # Add a new row for 'GBP' with the specified exchange rate\n",
    "    dataframe = dataframe.append({'Currency': 'GBP', 'Rates': exchange_rate}, ignore_index=True)\n",
    "\n",
    "    # Save the updated dataframe back to the CSV file\n",
    "    dataframe.to_csv('exchange_rates.csv', index=False)\n",
    "\n",
    "# Call the function to add 'GBP' with the exchange rate (for example, 0.73)\n",
    "add_gbp_exchange_rate(0.73)\n",
    "\n",
    "\n",
    "import json\n",
    "\n",
    "# Load the JSON file into a Python dictionary\n",
    "with open('bank_market_cap_1.json') as json_file:\n",
    "    data = json.load(json_file)\n",
    "\n",
    "# Add 'GBP' with the specified exchange rate to the dictionary\n",
    "data['GBP'] = {\n",
    "    \"Rates\": 0.73,\n",
    "    \"Market Cap (US$ Billion)\": 80\n",
    "}\n",
    "\n",
    "# Save the updated dictionary back to the JSON file\n",
    "with open('bank_market_cap_1.json', 'w') as json_file:\n",
    "    json.dump(data, json_file, indent=4)\n",
    "\n",
    "\n",
    "# Print the first 5 rows here\n",
    "# Call the transform function to get the transformed dataframe\n",
    "transformed_dataframe = transform()\n",
    "\n",
    "# Print the first 5 rows of the transformed dataframe\n",
    "print(transformed_dataframe.head())"
   ]
  },
  {
   "cell_type": "markdown",
   "metadata": {},
   "source": [
    "Log your data <code>\"Transform phase Ended\"</code>\n"
   ]
  },
  {
   "cell_type": "code",
   "execution_count": 75,
   "metadata": {
    "tags": []
   },
   "outputs": [
    {
     "name": "stderr",
     "output_type": "stream",
     "text": [
      "2023-08-02 05:25:39,129 - INFO - Transform phase Ended\n"
     ]
    }
   ],
   "source": [
    "log(\"Transform phase Ended\")"
   ]
  },
  {
   "cell_type": "markdown",
   "metadata": {},
   "source": [
    "### Load\n"
   ]
  },
  {
   "cell_type": "markdown",
   "metadata": {},
   "source": [
    "Log the following `\"Load phase Started\"`.\n"
   ]
  },
  {
   "cell_type": "code",
   "execution_count": 76,
   "metadata": {
    "tags": []
   },
   "outputs": [
    {
     "name": "stderr",
     "output_type": "stream",
     "text": [
      "2023-08-02 05:25:48,710 - INFO - Load phase Started\n"
     ]
    }
   ],
   "source": [
    "log(\"Load phase Started\")"
   ]
  },
  {
   "cell_type": "markdown",
   "metadata": {},
   "source": [
    "Call the load function\n"
   ]
  },
  {
   "cell_type": "code",
   "execution_count": 79,
   "metadata": {
    "tags": []
   },
   "outputs": [],
   "source": [
    "# Call the transform function to get the transformed dataframe\n",
    "transformed_dataframe = transform()\n",
    "\n",
    "# Call the load function to save the transformed dataframe to a CSV file\n",
    "load(transformed_dataframe)"
   ]
  },
  {
   "cell_type": "markdown",
   "metadata": {},
   "source": [
    "Log the following `\"Load phase Ended\"`.\n"
   ]
  },
  {
   "cell_type": "code",
   "execution_count": 80,
   "metadata": {
    "tags": []
   },
   "outputs": [
    {
     "name": "stderr",
     "output_type": "stream",
     "text": [
      "2023-08-02 05:27:44,155 - INFO - Load Phase Ended\n"
     ]
    }
   ],
   "source": [
    "log(\"Load Phase Ended\")"
   ]
  },
  {
   "cell_type": "markdown",
   "metadata": {},
   "source": [
    "## Authors\n"
   ]
  },
  {
   "cell_type": "markdown",
   "metadata": {},
   "source": [
    "Ramesh Sannareddy, Joseph Santrcangelo and Azim Hirjani\n"
   ]
  },
  {
   "cell_type": "markdown",
   "metadata": {},
   "source": [
    "### Other Contributors\n"
   ]
  },
  {
   "cell_type": "markdown",
   "metadata": {},
   "source": [
    "Rav Ahuja\n"
   ]
  },
  {
   "cell_type": "markdown",
   "metadata": {},
   "source": [
    "## Change Log\n"
   ]
  },
  {
   "cell_type": "markdown",
   "metadata": {},
   "source": [
    "| Date (YYYY-MM-DD) | Version | Changed By        | Change Description                 |\n",
    "| ----------------- | ------- | ----------------- | ---------------------------------- |\n",
    "| 2020-11-25        | 0.1     | Ramesh Sannareddy | Created initial version of the lab |\n"
   ]
  },
  {
   "cell_type": "markdown",
   "metadata": {},
   "source": [
    " Copyright © 2020 IBM Corporation. This notebook and its source code are released under the terms of the [MIT License](https://cognitiveclass.ai/mit-license?utm_medium=Exinfluencer&utm_source=Exinfluencer&utm_content=000026UJ&utm_term=10006555&utm_id=NA-SkillsNetwork-Channel-SkillsNetworkCoursesIBMDeveloperSkillsNetworkPY0221ENSkillsNetwork899-2023-01-01&cm_mmc=Email_Newsletter-_-Developer_Ed%2BTech-_-WW_WW-_-SkillsNetwork-Courses-IBM-DA0321EN-SkillsNetwork-21426264&cm_mmca1=000026UJ&cm_mmca2=10006555&cm_mmca3=M12345678&cvosrc=email.Newsletter.M12345678&cvo_campaign=000026UJ).\n"
   ]
  }
 ],
 "metadata": {
  "kernelspec": {
   "display_name": "Python",
   "language": "python",
   "name": "conda-env-python-py"
  },
  "language_info": {
   "codemirror_mode": {
    "name": "ipython",
    "version": 3
   },
   "file_extension": ".py",
   "mimetype": "text/x-python",
   "name": "python",
   "nbconvert_exporter": "python",
   "pygments_lexer": "ipython3",
   "version": "3.7.12"
  }
 },
 "nbformat": 4,
 "nbformat_minor": 4
}
